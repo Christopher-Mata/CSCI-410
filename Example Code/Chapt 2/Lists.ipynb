{
 "cells": [
  {
   "cell_type": "code",
   "execution_count": 1,
   "id": "8acbf23e-96d2-4091-8800-32945c4f7aa8",
   "metadata": {
    "execution": {
     "iopub.execute_input": "2023-01-30T16:24:59.745150Z",
     "iopub.status.busy": "2023-01-30T16:24:59.744006Z",
     "iopub.status.idle": "2023-01-30T16:24:59.776696Z",
     "shell.execute_reply": "2023-01-30T16:24:59.774353Z"
    }
   },
   "outputs": [],
   "source": [
    "# Create a list\n",
    "list = [33, 2, 14]"
   ]
  },
  {
   "cell_type": "code",
   "execution_count": 2,
   "id": "b513c43a-e2a5-420b-8e46-2b990da4c6f8",
   "metadata": {
    "execution": {
     "iopub.execute_input": "2023-01-30T16:24:59.787197Z",
     "iopub.status.busy": "2023-01-30T16:24:59.787197Z",
     "iopub.status.idle": "2023-01-30T16:24:59.808712Z",
     "shell.execute_reply": "2023-01-30T16:24:59.806476Z"
    }
   },
   "outputs": [
    {
     "data": {
      "text/plain": [
       "3"
      ]
     },
     "execution_count": 2,
     "metadata": {},
     "output_type": "execute_result"
    }
   ],
   "source": [
    "# Find the length of the list\n",
    "len(list)"
   ]
  },
  {
   "cell_type": "code",
   "execution_count": 3,
   "id": "dcac225a-783c-4009-a2b1-9fe4588f251d",
   "metadata": {
    "execution": {
     "iopub.execute_input": "2023-01-30T16:24:59.817789Z",
     "iopub.status.busy": "2023-01-30T16:24:59.816707Z",
     "iopub.status.idle": "2023-01-30T16:24:59.837801Z",
     "shell.execute_reply": "2023-01-30T16:24:59.837068Z"
    }
   },
   "outputs": [
    {
     "data": {
      "text/plain": [
       "[33, 2, 14, 'apples']"
      ]
     },
     "execution_count": 3,
     "metadata": {},
     "output_type": "execute_result"
    }
   ],
   "source": [
    "# Append 'apples' to the list\n",
    "list.append('apples')\n",
    "list"
   ]
  },
  {
   "cell_type": "code",
   "execution_count": 4,
   "id": "59025692-b607-460e-b39e-d434f34bb5a6",
   "metadata": {
    "execution": {
     "iopub.execute_input": "2023-01-30T16:24:59.846958Z",
     "iopub.status.busy": "2023-01-30T16:24:59.845968Z",
     "iopub.status.idle": "2023-01-30T16:24:59.868407Z",
     "shell.execute_reply": "2023-01-30T16:24:59.867181Z"
    }
   },
   "outputs": [
    {
     "data": {
      "text/plain": [
       "33"
      ]
     },
     "execution_count": 4,
     "metadata": {},
     "output_type": "execute_result"
    }
   ],
   "source": [
    "# Remove and display the first list element\n",
    "list.pop(0)"
   ]
  },
  {
   "cell_type": "code",
   "execution_count": 5,
   "id": "ae91467a-d96d-4470-b6e4-798dbe79785a",
   "metadata": {
    "execution": {
     "iopub.execute_input": "2023-01-30T16:24:59.879025Z",
     "iopub.status.busy": "2023-01-30T16:24:59.877954Z",
     "iopub.status.idle": "2023-01-30T16:24:59.901168Z",
     "shell.execute_reply": "2023-01-30T16:24:59.898054Z"
    }
   },
   "outputs": [
    {
     "data": {
      "text/plain": [
       "[2, 14, 'apples']"
      ]
     },
     "execution_count": 5,
     "metadata": {},
     "output_type": "execute_result"
    }
   ],
   "source": [
    "# Print the list\n",
    "list\n",
    "# Current list contains 2, 14, and 'apples'"
   ]
  },
  {
   "cell_type": "code",
   "execution_count": 6,
   "id": "e922932d-43a4-4bc1-bea9-8a306122668d",
   "metadata": {
    "execution": {
     "iopub.execute_input": "2023-01-30T16:24:59.912641Z",
     "iopub.status.busy": "2023-01-30T16:24:59.911639Z",
     "iopub.status.idle": "2023-01-30T16:24:59.931018Z",
     "shell.execute_reply": "2023-01-30T16:24:59.929603Z"
    }
   },
   "outputs": [
    {
     "data": {
      "text/plain": [
       "[2, 'apples']"
      ]
     },
     "execution_count": 6,
     "metadata": {},
     "output_type": "execute_result"
    }
   ],
   "source": [
    "# Remove 14 from the list\n",
    "list.remove(14)\n",
    "list"
   ]
  },
  {
   "cell_type": "code",
   "execution_count": 7,
   "id": "323d323f-2e58-4623-b185-697d08361059",
   "metadata": {
    "execution": {
     "iopub.execute_input": "2023-01-30T16:24:59.941953Z",
     "iopub.status.busy": "2023-01-30T16:24:59.940914Z",
     "iopub.status.idle": "2023-01-30T16:24:59.962551Z",
     "shell.execute_reply": "2023-01-30T16:24:59.960715Z"
    }
   },
   "outputs": [
    {
     "data": {
      "text/plain": [
       "[2, 'apples', 'bananas', 'pineapples']"
      ]
     },
     "execution_count": 7,
     "metadata": {},
     "output_type": "execute_result"
    }
   ],
   "source": [
    "list + ['bananas', 'pineapples']"
   ]
  }
 ],
 "metadata": {
  "kernelspec": {
   "display_name": "Python 3",
   "language": "python",
   "name": "python3"
  },
  "language_info": {
   "codemirror_mode": {
    "name": "ipython",
    "version": 3
   },
   "file_extension": ".py",
   "mimetype": "text/x-python",
   "name": "python",
   "nbconvert_exporter": "python",
   "pygments_lexer": "ipython3",
   "version": "3.9.15"
  },
  "vscode": {
   "interpreter": {
    "hash": "c56527485b7c9dd36c8c8808345694ae9d0a642c0f00dfb6356f9a65494ceb50"
   }
  },
  "widgets": {
   "application/vnd.jupyter.widget-state+json": {
    "state": {},
    "version_major": 2,
    "version_minor": 0
   }
  }
 },
 "nbformat": 4,
 "nbformat_minor": 5
}
