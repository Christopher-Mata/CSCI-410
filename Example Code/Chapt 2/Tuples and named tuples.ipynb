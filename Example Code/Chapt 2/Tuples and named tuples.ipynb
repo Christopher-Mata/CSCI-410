{
 "cells": [
  {
   "cell_type": "code",
   "execution_count": 1,
   "id": "f21e73f6-46fb-4dfe-b839-3afbcdc142a6",
   "metadata": {
    "execution": {
     "iopub.execute_input": "2023-01-30T16:25:03.606983Z",
     "iopub.status.busy": "2023-01-30T16:25:03.605898Z",
     "iopub.status.idle": "2023-01-30T16:25:03.638167Z",
     "shell.execute_reply": "2023-01-30T16:25:03.636212Z"
    }
   },
   "outputs": [],
   "source": [
    "# Load namedtuple class\n",
    "from collections import namedtuple"
   ]
  },
  {
   "cell_type": "code",
   "execution_count": 2,
   "id": "68bcb6dd-b06d-4569-b10c-6170d79f1b62",
   "metadata": {
    "execution": {
     "iopub.execute_input": "2023-01-30T16:25:03.650503Z",
     "iopub.status.busy": "2023-01-30T16:25:03.649502Z",
     "iopub.status.idle": "2023-01-30T16:25:03.669913Z",
     "shell.execute_reply": "2023-01-30T16:25:03.667839Z"
    }
   },
   "outputs": [],
   "source": [
    "# Create a tuple\n",
    "whiteHouse = (38.8977, 77.0366)"
   ]
  },
  {
   "cell_type": "code",
   "execution_count": 3,
   "id": "f9653680-e21c-4afc-93bc-cecbcf388e52",
   "metadata": {
    "execution": {
     "iopub.execute_input": "2023-01-30T16:25:03.681584Z",
     "iopub.status.busy": "2023-01-30T16:25:03.680585Z",
     "iopub.status.idle": "2023-01-30T16:25:03.701270Z",
     "shell.execute_reply": "2023-01-30T16:25:03.699602Z"
    }
   },
   "outputs": [
    {
     "name": "stdout",
     "output_type": "stream",
     "text": [
      "Coordinates: (38.8977, 77.0366)\n",
      "Latitude: 38.8977\n",
      "Longitude: 77.0366\n",
      "Tuple length: 2\n"
     ]
    }
   ],
   "source": [
    "# Print tuple elements and length\n",
    "print('Coordinates:', whiteHouse)\n",
    "print('Latitude:', whiteHouse[0])\n",
    "print('Longitude:', whiteHouse[1])\n",
    "print('Tuple length:', len(whiteHouse))"
   ]
  },
  {
   "cell_type": "code",
   "execution_count": 4,
   "id": "2d57c267-9969-4835-9aad-e2c393d602d2",
   "metadata": {
    "execution": {
     "iopub.execute_input": "2023-01-30T16:25:03.711466Z",
     "iopub.status.busy": "2023-01-30T16:25:03.711466Z",
     "iopub.status.idle": "2023-01-30T16:25:03.731901Z",
     "shell.execute_reply": "2023-01-30T16:25:03.730367Z"
    }
   },
   "outputs": [],
   "source": [
    "# The commented line below produces an error\n",
    "# whiteHouse[1] = 50"
   ]
  },
  {
   "cell_type": "code",
   "execution_count": 5,
   "id": "56d329fc-da14-4ea2-885e-a42d34864cee",
   "metadata": {
    "execution": {
     "iopub.execute_input": "2023-01-30T16:25:03.743928Z",
     "iopub.status.busy": "2023-01-30T16:25:03.742888Z",
     "iopub.status.idle": "2023-01-30T16:25:03.762789Z",
     "shell.execute_reply": "2023-01-30T16:25:03.761762Z"
    }
   },
   "outputs": [
    {
     "data": {
      "text/plain": [
       "Car(make='Chevrolet', model='Blazer', price=32000, horsepower=275, seats=8)"
      ]
     },
     "execution_count": 5,
     "metadata": {},
     "output_type": "execute_result"
    }
   ],
   "source": [
    "# Create a named tuple type Car and object chevyBlazer\n",
    "Car = namedtuple('Car', ['make', 'model', 'price', 'horsepower', 'seats'])\n",
    "chevyBlazer = Car('Chevrolet', 'Blazer', 32000, 275, 8)\n",
    "chevyBlazer"
   ]
  },
  {
   "cell_type": "code",
   "execution_count": 6,
   "id": "32913a24-e535-4c85-86b5-71847aa7c379",
   "metadata": {
    "execution": {
     "iopub.execute_input": "2023-01-30T16:25:03.771404Z",
     "iopub.status.busy": "2023-01-30T16:25:03.771404Z",
     "iopub.status.idle": "2023-01-30T16:25:03.793867Z",
     "shell.execute_reply": "2023-01-30T16:25:03.792819Z"
    }
   },
   "outputs": [
    {
     "data": {
      "text/plain": [
       "32000"
      ]
     },
     "execution_count": 6,
     "metadata": {},
     "output_type": "execute_result"
    }
   ],
   "source": [
    "# Display the chevyBlazer's price\n",
    "chevyBlazer.price"
   ]
  }
 ],
 "metadata": {
  "kernelspec": {
   "display_name": "Python 3 (ipykernel)",
   "language": "python",
   "name": "python3"
  },
  "language_info": {
   "codemirror_mode": {
    "name": "ipython",
    "version": 3
   },
   "file_extension": ".py",
   "mimetype": "text/x-python",
   "name": "python",
   "nbconvert_exporter": "python",
   "pygments_lexer": "ipython3",
   "version": "3.9.15"
  },
  "widgets": {
   "application/vnd.jupyter.widget-state+json": {
    "state": {},
    "version_major": 2,
    "version_minor": 0
   }
  }
 },
 "nbformat": 4,
 "nbformat_minor": 5
}
