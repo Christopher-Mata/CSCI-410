{
 "cells": [
  {
   "cell_type": "code",
   "execution_count": 1,
   "id": "c8e56041-e938-411b-9344-30e717278cfe",
   "metadata": {
    "execution": {
     "iopub.execute_input": "2023-01-30T16:25:15.265306Z",
     "iopub.status.busy": "2023-01-30T16:25:15.264306Z",
     "iopub.status.idle": "2023-01-30T16:25:15.285442Z",
     "shell.execute_reply": "2023-01-30T16:25:15.283800Z"
    }
   },
   "outputs": [],
   "source": [
    "# Define function that prints full name\n",
    "def printName(first, last, lastFirst=False):\n",
    "    if lastFirst:\n",
    "        print(last + ', ' + first)\n",
    "    if not lastFirst:\n",
    "        print(first + ' ' + last)"
   ]
  },
  {
   "cell_type": "code",
   "execution_count": 2,
   "id": "cf25e62b-0f17-4a73-8432-3d0cd8568d4c",
   "metadata": {
    "execution": {
     "iopub.execute_input": "2023-01-30T16:25:15.291810Z",
     "iopub.status.busy": "2023-01-30T16:25:15.290785Z",
     "iopub.status.idle": "2023-01-30T16:25:15.315929Z",
     "shell.execute_reply": "2023-01-30T16:25:15.314611Z"
    }
   },
   "outputs": [
    {
     "name": "stdout",
     "output_type": "stream",
     "text": [
      "Patel, Dana\n"
     ]
    }
   ],
   "source": [
    "# Call with keyword arguments\n",
    "printName(first='Dana', last='Patel', lastFirst=True)"
   ]
  },
  {
   "cell_type": "code",
   "execution_count": 3,
   "id": "9486f463-df01-4f52-8470-d9a2ab5ee499",
   "metadata": {
    "execution": {
     "iopub.execute_input": "2023-01-30T16:25:15.322755Z",
     "iopub.status.busy": "2023-01-30T16:25:15.321715Z",
     "iopub.status.idle": "2023-01-30T16:25:15.331156Z",
     "shell.execute_reply": "2023-01-30T16:25:15.329930Z"
    }
   },
   "outputs": [
    {
     "name": "stdout",
     "output_type": "stream",
     "text": [
      "Patel, Dana\n"
     ]
    }
   ],
   "source": [
    "# Call with positional arguments\n",
    "printName('Dana', 'Patel', True)"
   ]
  },
  {
   "cell_type": "code",
   "execution_count": 4,
   "id": "d5b8f571-359a-42df-8232-aef39edcf438",
   "metadata": {
    "execution": {
     "iopub.execute_input": "2023-01-30T16:25:15.337646Z",
     "iopub.status.busy": "2023-01-30T16:25:15.337326Z",
     "iopub.status.idle": "2023-01-30T16:25:15.346417Z",
     "shell.execute_reply": "2023-01-30T16:25:15.344801Z"
    }
   },
   "outputs": [
    {
     "name": "stdout",
     "output_type": "stream",
     "text": [
      "Patel, Dana\n"
     ]
    }
   ],
   "source": [
    "# Call with both keyword and positional arguments\n",
    "printName('Dana', 'Patel', lastFirst=True)"
   ]
  },
  {
   "cell_type": "code",
   "execution_count": 5,
   "id": "a40b3152-b294-41c3-a1c3-9d1503b92450",
   "metadata": {
    "execution": {
     "iopub.execute_input": "2023-01-30T16:25:15.352319Z",
     "iopub.status.busy": "2023-01-30T16:25:15.351818Z",
     "iopub.status.idle": "2023-01-30T16:25:15.362220Z",
     "shell.execute_reply": "2023-01-30T16:25:15.360867Z"
    }
   },
   "outputs": [
    {
     "name": "stdout",
     "output_type": "stream",
     "text": [
      "Dana Patel\n"
     ]
    }
   ],
   "source": [
    "# Call with default value\n",
    "printName('Dana', 'Patel')"
   ]
  }
 ],
 "metadata": {
  "kernelspec": {
   "display_name": "Python 3",
   "language": "python",
   "name": "python3"
  },
  "language_info": {
   "codemirror_mode": {
    "name": "ipython",
    "version": 3
   },
   "file_extension": ".py",
   "mimetype": "text/x-python",
   "name": "python",
   "nbconvert_exporter": "python",
   "pygments_lexer": "ipython3",
   "version": "3.9.15"
  },
  "vscode": {
   "interpreter": {
    "hash": "c56527485b7c9dd36c8c8808345694ae9d0a642c0f00dfb6356f9a65494ceb50"
   }
  },
  "widgets": {
   "application/vnd.jupyter.widget-state+json": {
    "state": {},
    "version_major": 2,
    "version_minor": 0
   }
  }
 },
 "nbformat": 4,
 "nbformat_minor": 5
}
