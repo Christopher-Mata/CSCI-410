{
 "cells": [
  {
   "cell_type": "code",
   "execution_count": 1,
   "id": "b2cef354-7944-4087-9078-fd270f9f3516",
   "metadata": {},
   "outputs": [],
   "source": [
    "# Create a set\n",
    "set = {'abc', 'xyz'}"
   ]
  },
  {
   "cell_type": "code",
   "execution_count": 2,
   "id": "873c2260-4c0a-4400-a422-7cf87f446837",
   "metadata": {},
   "outputs": [
    {
     "data": {
      "text/plain": [
       "{'abc', 'banana', 'xyz'}"
      ]
     },
     "execution_count": 2,
     "metadata": {},
     "output_type": "execute_result"
    }
   ],
   "source": [
    "# Add 'banana' to the set\n",
    "set.add('banana')\n",
    "set"
   ]
  },
  {
   "cell_type": "code",
   "execution_count": 3,
   "id": "381b280e-632c-4e2d-8a00-18f0d21aab79",
   "metadata": {},
   "outputs": [
    {
     "data": {
      "text/plain": [
       "{'banana', 'xyz'}"
      ]
     },
     "execution_count": 3,
     "metadata": {},
     "output_type": "execute_result"
    }
   ],
   "source": [
    "# Remove 'abc' from the set\n",
    "set.remove('abc')\n",
    "set"
   ]
  },
  {
   "cell_type": "code",
   "execution_count": 4,
   "id": "e52c0af8-5368-4dfa-aef5-a2d02fab3bf4",
   "metadata": {},
   "outputs": [
    {
     "data": {
      "text/plain": [
       "{'banana'}"
      ]
     },
     "execution_count": 4,
     "metadata": {},
     "output_type": "execute_result"
    }
   ],
   "source": [
    "# Remove a random element from the set\n",
    "set.pop()\n",
    "set"
   ]
  },
  {
   "cell_type": "code",
   "execution_count": 5,
   "id": "347b1f40-93ec-4b59-bdb6-5b29db45aab9",
   "metadata": {},
   "outputs": [
    {
     "data": {
      "text/plain": [
       "{44, 'banana', 'xyz'}"
      ]
     },
     "execution_count": 5,
     "metadata": {},
     "output_type": "execute_result"
    }
   ],
   "source": [
    "# Display the union of set and {'xyz', 44}\n",
    "set.union({'xyz', 44})"
   ]
  },
  {
   "cell_type": "code",
   "execution_count": 6,
   "id": "20be279b-a082-4a35-90c3-58dae11fbc3c",
   "metadata": {},
   "outputs": [
    {
     "data": {
      "text/plain": [
       "set()"
      ]
     },
     "execution_count": 6,
     "metadata": {},
     "output_type": "execute_result"
    }
   ],
   "source": [
    "# Display the intersection of set and {'xyz', 44}\n",
    "set.intersection({'xyz', 44})"
   ]
  }
 ],
 "metadata": {
  "kernelspec": {
   "display_name": "base",
   "language": "python",
   "name": "python3"
  },
  "language_info": {
   "codemirror_mode": {
    "name": "ipython",
    "version": 3
   },
   "file_extension": ".py",
   "mimetype": "text/x-python",
   "name": "python",
   "nbconvert_exporter": "python",
   "pygments_lexer": "ipython3",
   "version": "3.9.15"
  },
  "vscode": {
   "interpreter": {
    "hash": "8da5f44f3c50f4b8c4de790cb93e33dd9ef9127e35d33e4e57b9ae04d20a0668"
   }
  },
  "widgets": {
   "application/vnd.jupyter.widget-state+json": {
    "state": {},
    "version_major": 2,
    "version_minor": 0
   }
  }
 },
 "nbformat": 4,
 "nbformat_minor": 5
}
