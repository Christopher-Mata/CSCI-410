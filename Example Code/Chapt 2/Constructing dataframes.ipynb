{
 "cells": [
  {
   "cell_type": "code",
   "execution_count": 1,
   "id": "145a12d4-532f-4b06-9bb5-9039836befc8",
   "metadata": {
    "execution": {
     "iopub.execute_input": "2023-01-30T16:26:39.945188Z",
     "iopub.status.busy": "2023-01-30T16:26:39.944338Z",
     "iopub.status.idle": "2023-01-30T16:26:40.717904Z",
     "shell.execute_reply": "2023-01-30T16:26:40.717009Z"
    }
   },
   "outputs": [],
   "source": [
    "# Load the pandas and numpy packages\n",
    "import pandas as pd\n",
    "import numpy as np"
   ]
  },
  {
   "cell_type": "code",
   "execution_count": 2,
   "id": "7c2e3289-d32d-4c9a-a874-7ada3a1e603e",
   "metadata": {
    "execution": {
     "iopub.execute_input": "2023-01-30T16:26:40.729536Z",
     "iopub.status.busy": "2023-01-30T16:26:40.727178Z",
     "iopub.status.idle": "2023-01-30T16:26:40.751616Z",
     "shell.execute_reply": "2023-01-30T16:26:40.748774Z"
    }
   },
   "outputs": [],
   "source": [
    "# Create dataframe with pandas DataFrame() constructor\n",
    "dataframe = pd.DataFrame(\n",
    "    data=[['abc', 3.3, 28, True], \n",
    "          ['xyz', -0.55, 0, False]],\n",
    "    columns=['Label1', 'Label2', 'Label3', 'Label4'],\n",
    "    index=[0, 1],\n",
    ")"
   ]
  },
  {
   "cell_type": "code",
   "execution_count": 3,
   "id": "5c5f1d82-746f-421d-98ea-c0a6eca0eee3",
   "metadata": {
    "execution": {
     "iopub.execute_input": "2023-01-30T16:26:40.763802Z",
     "iopub.status.busy": "2023-01-30T16:26:40.762803Z",
     "iopub.status.idle": "2023-01-30T16:26:40.796417Z",
     "shell.execute_reply": "2023-01-30T16:26:40.794946Z"
    }
   },
   "outputs": [
    {
     "data": {
      "text/html": [
       "<div>\n",
       "<style scoped>\n",
       "    .dataframe tbody tr th:only-of-type {\n",
       "        vertical-align: middle;\n",
       "    }\n",
       "\n",
       "    .dataframe tbody tr th {\n",
       "        vertical-align: top;\n",
       "    }\n",
       "\n",
       "    .dataframe thead th {\n",
       "        text-align: right;\n",
       "    }\n",
       "</style>\n",
       "<table border=\"1\" class=\"dataframe\">\n",
       "  <thead>\n",
       "    <tr style=\"text-align: right;\">\n",
       "      <th></th>\n",
       "      <th>Label1</th>\n",
       "      <th>Label2</th>\n",
       "      <th>Label3</th>\n",
       "      <th>Label4</th>\n",
       "    </tr>\n",
       "  </thead>\n",
       "  <tbody>\n",
       "    <tr>\n",
       "      <th>0</th>\n",
       "      <td>abc</td>\n",
       "      <td>3.30</td>\n",
       "      <td>28</td>\n",
       "      <td>True</td>\n",
       "    </tr>\n",
       "    <tr>\n",
       "      <th>1</th>\n",
       "      <td>xyz</td>\n",
       "      <td>-0.55</td>\n",
       "      <td>0</td>\n",
       "      <td>False</td>\n",
       "    </tr>\n",
       "  </tbody>\n",
       "</table>\n",
       "</div>"
      ],
      "text/plain": [
       "  Label1  Label2  Label3  Label4\n",
       "0    abc    3.30      28    True\n",
       "1    xyz   -0.55       0   False"
      ]
     },
     "execution_count": 3,
     "metadata": {},
     "output_type": "execute_result"
    }
   ],
   "source": [
    "# Display the dataframe\n",
    "dataframe"
   ]
  },
  {
   "cell_type": "code",
   "execution_count": 4,
   "id": "8bfa4c8e-bf82-406e-bd55-808111c26293",
   "metadata": {
    "execution": {
     "iopub.execute_input": "2023-01-30T16:26:40.805414Z",
     "iopub.status.busy": "2023-01-30T16:26:40.804412Z",
     "iopub.status.idle": "2023-01-30T16:26:40.828297Z",
     "shell.execute_reply": "2023-01-30T16:26:40.826523Z"
    }
   },
   "outputs": [
    {
     "data": {
      "text/plain": [
       "(2, 4)"
      ]
     },
     "execution_count": 4,
     "metadata": {},
     "output_type": "execute_result"
    }
   ],
   "source": [
    "# Display the dataframe's shape\n",
    "dataframe.shape"
   ]
  },
  {
   "cell_type": "code",
   "execution_count": 5,
   "id": "f6e128e2-f019-455a-8c21-f3d6697007be",
   "metadata": {
    "execution": {
     "iopub.execute_input": "2023-01-30T16:26:40.837301Z",
     "iopub.status.busy": "2023-01-30T16:26:40.836300Z",
     "iopub.status.idle": "2023-01-30T16:26:40.860713Z",
     "shell.execute_reply": "2023-01-30T16:26:40.857986Z"
    }
   },
   "outputs": [],
   "source": [
    "# Create an array\n",
    "array = np.array(\n",
    "   object=[ [ [1, 2, 3], [4, 5, 6] ], \n",
    "            [ [11, 12, 13], [14, 15, 16] ] ] )"
   ]
  },
  {
   "cell_type": "code",
   "execution_count": 6,
   "id": "7d54b65b-726a-431f-a18f-a10a417722d7",
   "metadata": {
    "execution": {
     "iopub.execute_input": "2023-01-30T16:26:40.872714Z",
     "iopub.status.busy": "2023-01-30T16:26:40.871712Z",
     "iopub.status.idle": "2023-01-30T16:26:40.890480Z",
     "shell.execute_reply": "2023-01-30T16:26:40.888980Z"
    }
   },
   "outputs": [
    {
     "data": {
      "text/plain": [
       "(2, 2, 3)"
      ]
     },
     "execution_count": 6,
     "metadata": {},
     "output_type": "execute_result"
    }
   ],
   "source": [
    "# Returns the array's shape\n",
    "array.shape"
   ]
  }
 ],
 "metadata": {
  "kernelspec": {
   "display_name": "Python 3 (ipykernel)",
   "language": "python",
   "name": "python3"
  },
  "language_info": {
   "codemirror_mode": {
    "name": "ipython",
    "version": 3
   },
   "file_extension": ".py",
   "mimetype": "text/x-python",
   "name": "python",
   "nbconvert_exporter": "python",
   "pygments_lexer": "ipython3",
   "version": "3.9.15"
  },
  "widgets": {
   "application/vnd.jupyter.widget-state+json": {
    "state": {},
    "version_major": 2,
    "version_minor": 0
   }
  }
 },
 "nbformat": 4,
 "nbformat_minor": 5
}
