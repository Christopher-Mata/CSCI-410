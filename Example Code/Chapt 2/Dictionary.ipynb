{
 "cells": [
  {
   "cell_type": "code",
   "execution_count": 1,
   "id": "50cc0a1b-aee4-4e47-b354-ad8824d98135",
   "metadata": {
    "execution": {
     "iopub.execute_input": "2023-01-30T16:25:11.462829Z",
     "iopub.status.busy": "2023-01-30T16:25:11.459743Z",
     "iopub.status.idle": "2023-01-30T16:25:11.494403Z",
     "shell.execute_reply": "2023-01-30T16:25:11.491649Z"
    }
   },
   "outputs": [],
   "source": [
    "# Create the prices dictionary\n",
    "prices = {'apple': 1.99, 'orange': 1.49}"
   ]
  },
  {
   "cell_type": "code",
   "execution_count": 2,
   "id": "a2a10e6f-bbe6-48a9-a904-0e72ff7a82b2",
   "metadata": {
    "execution": {
     "iopub.execute_input": "2023-01-30T16:25:11.507487Z",
     "iopub.status.busy": "2023-01-30T16:25:11.506430Z",
     "iopub.status.idle": "2023-01-30T16:25:11.541491Z",
     "shell.execute_reply": "2023-01-30T16:25:11.538666Z"
    }
   },
   "outputs": [
    {
     "data": {
      "text/plain": [
       "{'apple': 1.99, 'orange': 1.49, 'banana': 1.59}"
      ]
     },
     "execution_count": 2,
     "metadata": {},
     "output_type": "execute_result"
    }
   ],
   "source": [
    "# Add an element with key 'banana'\n",
    "prices['banana'] = 1.59\n",
    "prices"
   ]
  },
  {
   "cell_type": "code",
   "execution_count": 3,
   "id": "7e22fd29-c75b-4556-b184-28cff616e9cd",
   "metadata": {
    "execution": {
     "iopub.execute_input": "2023-01-30T16:25:11.550245Z",
     "iopub.status.busy": "2023-01-30T16:25:11.549243Z",
     "iopub.status.idle": "2023-01-30T16:25:11.571437Z",
     "shell.execute_reply": "2023-01-30T16:25:11.570008Z"
    }
   },
   "outputs": [
    {
     "data": {
      "text/plain": [
       "{'apple': 1.99, 'orange': 1.49, 'banana': 1.69}"
      ]
     },
     "execution_count": 3,
     "metadata": {},
     "output_type": "execute_result"
    }
   ],
   "source": [
    "# Modify the banana element\n",
    "prices['banana'] = 1.69\n",
    "prices"
   ]
  },
  {
   "cell_type": "code",
   "execution_count": 4,
   "id": "7b10f993-0fbd-4b23-9b40-9895bcc6e556",
   "metadata": {
    "execution": {
     "iopub.execute_input": "2023-01-30T16:25:11.581054Z",
     "iopub.status.busy": "2023-01-30T16:25:11.581054Z",
     "iopub.status.idle": "2023-01-30T16:25:11.602624Z",
     "shell.execute_reply": "2023-01-30T16:25:11.600920Z"
    }
   },
   "outputs": [
    {
     "data": {
      "text/plain": [
       "{'orange': 1.49, 'banana': 1.69}"
      ]
     },
     "execution_count": 4,
     "metadata": {},
     "output_type": "execute_result"
    }
   ],
   "source": [
    "# Remove the apple element\n",
    "del prices['apple']\n",
    "prices"
   ]
  }
 ],
 "metadata": {
  "kernelspec": {
   "display_name": "Python 3",
   "language": "python",
   "name": "python3"
  },
  "language_info": {
   "codemirror_mode": {
    "name": "ipython",
    "version": 3
   },
   "file_extension": ".py",
   "mimetype": "text/x-python",
   "name": "python",
   "nbconvert_exporter": "python",
   "pygments_lexer": "ipython3",
   "version": "3.9.15"
  },
  "vscode": {
   "interpreter": {
    "hash": "c56527485b7c9dd36c8c8808345694ae9d0a642c0f00dfb6356f9a65494ceb50"
   }
  },
  "widgets": {
   "application/vnd.jupyter.widget-state+json": {
    "state": {},
    "version_major": 2,
    "version_minor": 0
   }
  }
 },
 "nbformat": 4,
 "nbformat_minor": 5
}
