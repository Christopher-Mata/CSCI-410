{
 "cells": [
  {
   "cell_type": "code",
   "execution_count": 1,
   "id": "7dbef033-add2-4930-aa1f-ebf2e46c1a72",
   "metadata": {
    "execution": {
     "iopub.execute_input": "2023-01-30T16:26:23.522900Z",
     "iopub.status.busy": "2023-01-30T16:26:23.521653Z",
     "iopub.status.idle": "2023-01-30T16:26:23.724913Z",
     "shell.execute_reply": "2023-01-30T16:26:23.723740Z"
    }
   },
   "outputs": [],
   "source": [
    "# Load NumPy package\n",
    "import numpy as np"
   ]
  },
  {
   "cell_type": "code",
   "execution_count": 2,
   "id": "fb63be33-5645-4a54-83c5-1c577b09a7b0",
   "metadata": {
    "execution": {
     "iopub.execute_input": "2023-01-30T16:26:23.733380Z",
     "iopub.status.busy": "2023-01-30T16:26:23.732390Z",
     "iopub.status.idle": "2023-01-30T16:26:23.741101Z",
     "shell.execute_reply": "2023-01-30T16:26:23.739645Z"
    }
   },
   "outputs": [],
   "source": [
    "# Create two-dimensional array\n",
    "myArray = np.array([[10, 20, 30], [210, 220, 230]])"
   ]
  },
  {
   "cell_type": "code",
   "execution_count": 3,
   "id": "4ad9ecfa-ddd9-4e85-9d0e-e3bf93ad70dc",
   "metadata": {
    "execution": {
     "iopub.execute_input": "2023-01-30T16:26:23.751145Z",
     "iopub.status.busy": "2023-01-30T16:26:23.750148Z",
     "iopub.status.idle": "2023-01-30T16:26:23.772540Z",
     "shell.execute_reply": "2023-01-30T16:26:23.770933Z"
    }
   },
   "outputs": [
    {
     "data": {
      "text/plain": [
       "array([[ 10,  20,  30],\n",
       "       [210, 220, 230]])"
      ]
     },
     "execution_count": 3,
     "metadata": {},
     "output_type": "execute_result"
    }
   ],
   "source": [
    "# Display the array\n",
    "myArray"
   ]
  },
  {
   "cell_type": "code",
   "execution_count": 4,
   "id": "1b0801b6-418d-46dd-af09-9b6690627f88",
   "metadata": {
    "execution": {
     "iopub.execute_input": "2023-01-30T16:26:23.782535Z",
     "iopub.status.busy": "2023-01-30T16:26:23.781533Z",
     "iopub.status.idle": "2023-01-30T16:26:23.802924Z",
     "shell.execute_reply": "2023-01-30T16:26:23.802022Z"
    }
   },
   "outputs": [
    {
     "data": {
      "text/plain": [
       "(2, 3)"
      ]
     },
     "execution_count": 4,
     "metadata": {},
     "output_type": "execute_result"
    }
   ],
   "source": [
    "# Display the shape\n",
    "myArray.shape"
   ]
  },
  {
   "cell_type": "code",
   "execution_count": 5,
   "id": "5dfdb27c-feec-456c-a24f-b8eff0b36854",
   "metadata": {
    "execution": {
     "iopub.execute_input": "2023-01-30T16:26:23.814527Z",
     "iopub.status.busy": "2023-01-30T16:26:23.813525Z",
     "iopub.status.idle": "2023-01-30T16:26:23.834893Z",
     "shell.execute_reply": "2023-01-30T16:26:23.833058Z"
    }
   },
   "outputs": [
    {
     "data": {
      "text/plain": [
       "6"
      ]
     },
     "execution_count": 5,
     "metadata": {},
     "output_type": "execute_result"
    }
   ],
   "source": [
    "# Display the size\n",
    "myArray.size"
   ]
  },
  {
   "cell_type": "code",
   "execution_count": 6,
   "id": "29012412-cf27-41fb-aaff-f8c9c54b9840",
   "metadata": {
    "execution": {
     "iopub.execute_input": "2023-01-30T16:26:23.840907Z",
     "iopub.status.busy": "2023-01-30T16:26:23.840907Z",
     "iopub.status.idle": "2023-01-30T16:26:23.849211Z",
     "shell.execute_reply": "2023-01-30T16:26:23.848859Z"
    }
   },
   "outputs": [
    {
     "data": {
      "text/plain": [
       "230"
      ]
     },
     "execution_count": 6,
     "metadata": {},
     "output_type": "execute_result"
    }
   ],
   "source": [
    "# Access the second row and third column\n",
    "myArray[1, 2]"
   ]
  },
  {
   "cell_type": "code",
   "execution_count": 7,
   "id": "a154a15e-b6cd-4226-b7dd-59ad35a282bd",
   "metadata": {
    "execution": {
     "iopub.execute_input": "2023-01-30T16:26:23.854887Z",
     "iopub.status.busy": "2023-01-30T16:26:23.853886Z",
     "iopub.status.idle": "2023-01-30T16:26:23.864915Z",
     "shell.execute_reply": "2023-01-30T16:26:23.864086Z"
    }
   },
   "outputs": [
    {
     "data": {
      "text/plain": [
       "array([10, 20, 30])"
      ]
     },
     "execution_count": 7,
     "metadata": {},
     "output_type": "execute_result"
    }
   ],
   "source": [
    "# Access the first row\n",
    "myArray[0, :]"
   ]
  },
  {
   "cell_type": "code",
   "execution_count": 8,
   "id": "f82a855a-3ab3-4b29-9d87-bd9c31f1ef6f",
   "metadata": {
    "execution": {
     "iopub.execute_input": "2023-01-30T16:26:23.872094Z",
     "iopub.status.busy": "2023-01-30T16:26:23.871093Z",
     "iopub.status.idle": "2023-01-30T16:26:23.881047Z",
     "shell.execute_reply": "2023-01-30T16:26:23.880048Z"
    }
   },
   "outputs": [
    {
     "data": {
      "text/plain": [
       "3"
      ]
     },
     "execution_count": 8,
     "metadata": {},
     "output_type": "execute_result"
    }
   ],
   "source": [
    "# Access the first row's size\n",
    "myArray[0, :].size"
   ]
  }
 ],
 "metadata": {
  "kernelspec": {
   "display_name": "Python 3 (ipykernel)",
   "language": "python",
   "name": "python3"
  },
  "language_info": {
   "codemirror_mode": {
    "name": "ipython",
    "version": 3
   },
   "file_extension": ".py",
   "mimetype": "text/x-python",
   "name": "python",
   "nbconvert_exporter": "python",
   "pygments_lexer": "ipython3",
   "version": "3.9.15"
  },
  "widgets": {
   "application/vnd.jupyter.widget-state+json": {
    "state": {},
    "version_major": 2,
    "version_minor": 0
   }
  }
 },
 "nbformat": 4,
 "nbformat_minor": 5
}
