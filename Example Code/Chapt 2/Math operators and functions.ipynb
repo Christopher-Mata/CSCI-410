{
 "cells": [
  {
   "cell_type": "code",
   "execution_count": 1,
   "id": "f8dcd1a9-3509-4c91-ba19-7cc07a755d47",
   "metadata": {
    "execution": {
     "iopub.execute_input": "2023-01-30T16:26:35.241438Z",
     "iopub.status.busy": "2023-01-30T16:26:35.240203Z",
     "iopub.status.idle": "2023-01-30T16:26:35.504708Z",
     "shell.execute_reply": "2023-01-30T16:26:35.502298Z"
    }
   },
   "outputs": [],
   "source": [
    "# Load NumPy package\n",
    "import numpy as np"
   ]
  },
  {
   "cell_type": "code",
   "execution_count": 2,
   "id": "34713bea-1f6a-45d2-873c-603d4a7cf0df",
   "metadata": {
    "execution": {
     "iopub.execute_input": "2023-01-30T16:26:35.514620Z",
     "iopub.status.busy": "2023-01-30T16:26:35.513622Z",
     "iopub.status.idle": "2023-01-30T16:26:35.534144Z",
     "shell.execute_reply": "2023-01-30T16:26:35.532884Z"
    }
   },
   "outputs": [
    {
     "data": {
      "text/plain": [
       "array([[1, 2],\n",
       "       [3, 4]])"
      ]
     },
     "execution_count": 2,
     "metadata": {},
     "output_type": "execute_result"
    }
   ],
   "source": [
    "# Create array1\n",
    "array1 = np.array([[1, 2], [3, 4]])\n",
    "array1"
   ]
  },
  {
   "cell_type": "code",
   "execution_count": 3,
   "id": "eac7fd56-7147-4bfc-b3d7-359d5dc798c3",
   "metadata": {
    "execution": {
     "iopub.execute_input": "2023-01-30T16:26:35.542779Z",
     "iopub.status.busy": "2023-01-30T16:26:35.542655Z",
     "iopub.status.idle": "2023-01-30T16:26:35.564941Z",
     "shell.execute_reply": "2023-01-30T16:26:35.563780Z"
    }
   },
   "outputs": [
    {
     "data": {
      "text/plain": [
       "array([[5, 6],\n",
       "       [7, 8]])"
      ]
     },
     "execution_count": 3,
     "metadata": {},
     "output_type": "execute_result"
    }
   ],
   "source": [
    "# Create array2\n",
    "array2 = np.array([[5, 6], [7, 8]])\n",
    "array2"
   ]
  },
  {
   "cell_type": "code",
   "execution_count": 4,
   "id": "84b446a8-01a8-4ef7-b18a-c56f3a05690d",
   "metadata": {
    "execution": {
     "iopub.execute_input": "2023-01-30T16:26:35.574875Z",
     "iopub.status.busy": "2023-01-30T16:26:35.573393Z",
     "iopub.status.idle": "2023-01-30T16:26:35.595158Z",
     "shell.execute_reply": "2023-01-30T16:26:35.594156Z"
    }
   },
   "outputs": [
    {
     "data": {
      "text/plain": [
       "array([[ 6,  8],\n",
       "       [10, 12]])"
      ]
     },
     "execution_count": 4,
     "metadata": {},
     "output_type": "execute_result"
    }
   ],
   "source": [
    "# Add array1 and array2\n",
    "array1 + array2"
   ]
  },
  {
   "cell_type": "code",
   "execution_count": 5,
   "id": "7c2843f0-4065-49a3-90d8-75d346feaf63",
   "metadata": {
    "execution": {
     "iopub.execute_input": "2023-01-30T16:26:35.605495Z",
     "iopub.status.busy": "2023-01-30T16:26:35.605495Z",
     "iopub.status.idle": "2023-01-30T16:26:35.626735Z",
     "shell.execute_reply": "2023-01-30T16:26:35.625318Z"
    }
   },
   "outputs": [
    {
     "data": {
      "text/plain": [
       "array([[-4, -4],\n",
       "       [-4, -4]])"
      ]
     },
     "execution_count": 5,
     "metadata": {},
     "output_type": "execute_result"
    }
   ],
   "source": [
    "# Subtract array1 and array2\n",
    "array1 - array2"
   ]
  },
  {
   "cell_type": "code",
   "execution_count": 6,
   "id": "5fd94f9f-b2fd-4c1e-bcfa-20091c871190",
   "metadata": {
    "execution": {
     "iopub.execute_input": "2023-01-30T16:26:35.635315Z",
     "iopub.status.busy": "2023-01-30T16:26:35.634290Z",
     "iopub.status.idle": "2023-01-30T16:26:35.657565Z",
     "shell.execute_reply": "2023-01-30T16:26:35.656293Z"
    }
   },
   "outputs": [
    {
     "data": {
      "text/plain": [
       "array([[ 5, 12],\n",
       "       [21, 32]])"
      ]
     },
     "execution_count": 6,
     "metadata": {},
     "output_type": "execute_result"
    }
   ],
   "source": [
    "# Multiply array1 and array2\n",
    "array1 * array2"
   ]
  },
  {
   "cell_type": "code",
   "execution_count": 7,
   "id": "7b033c05-7b4e-402e-8c62-cc1a084c25fd",
   "metadata": {
    "execution": {
     "iopub.execute_input": "2023-01-30T16:26:35.666551Z",
     "iopub.status.busy": "2023-01-30T16:26:35.665551Z",
     "iopub.status.idle": "2023-01-30T16:26:35.687252Z",
     "shell.execute_reply": "2023-01-30T16:26:35.686264Z"
    }
   },
   "outputs": [
    {
     "data": {
      "text/plain": [
       "array([[0.2       , 0.33333333],\n",
       "       [0.42857143, 0.5       ]])"
      ]
     },
     "execution_count": 7,
     "metadata": {},
     "output_type": "execute_result"
    }
   ],
   "source": [
    "# Divide array1 by array2\n",
    "array1 / array2"
   ]
  },
  {
   "cell_type": "code",
   "execution_count": 8,
   "id": "85ff136a-adb7-450a-8d6d-3c668c6a7742",
   "metadata": {
    "execution": {
     "iopub.execute_input": "2023-01-30T16:26:35.694251Z",
     "iopub.status.busy": "2023-01-30T16:26:35.694251Z",
     "iopub.status.idle": "2023-01-30T16:26:35.703254Z",
     "shell.execute_reply": "2023-01-30T16:26:35.702264Z"
    }
   },
   "outputs": [
    {
     "data": {
      "text/plain": [
       "array([[2.23606798, 2.44948974],\n",
       "       [2.64575131, 2.82842712]])"
      ]
     },
     "execution_count": 8,
     "metadata": {},
     "output_type": "execute_result"
    }
   ],
   "source": [
    "# Find square root of array 2 elements\n",
    "np.sqrt(array2)"
   ]
  },
  {
   "cell_type": "code",
   "execution_count": 9,
   "id": "5408ee91-5a8a-4def-9029-04ff5b37286a",
   "metadata": {
    "execution": {
     "iopub.execute_input": "2023-01-30T16:26:35.712254Z",
     "iopub.status.busy": "2023-01-30T16:26:35.711252Z",
     "iopub.status.idle": "2023-01-30T16:26:35.735029Z",
     "shell.execute_reply": "2023-01-30T16:26:35.733494Z"
    }
   },
   "outputs": [
    {
     "data": {
      "text/plain": [
       "array([[19, 22],\n",
       "       [43, 50]])"
      ]
     },
     "execution_count": 9,
     "metadata": {},
     "output_type": "execute_result"
    }
   ],
   "source": [
    "# Find the dot product of rows of array1 and columns of array2\n",
    "np.dot(array1, array2)"
   ]
  }
 ],
 "metadata": {
  "kernelspec": {
   "display_name": "base",
   "language": "python",
   "name": "python3"
  },
  "language_info": {
   "codemirror_mode": {
    "name": "ipython",
    "version": 3
   },
   "file_extension": ".py",
   "mimetype": "text/x-python",
   "name": "python",
   "nbconvert_exporter": "python",
   "pygments_lexer": "ipython3",
   "version": "3.9.15"
  },
  "vscode": {
   "interpreter": {
    "hash": "8da5f44f3c50f4b8c4de790cb93e33dd9ef9127e35d33e4e57b9ae04d20a0668"
   }
  },
  "widgets": {
   "application/vnd.jupyter.widget-state+json": {
    "state": {},
    "version_major": 2,
    "version_minor": 0
   }
  }
 },
 "nbformat": 4,
 "nbformat_minor": 5
}
