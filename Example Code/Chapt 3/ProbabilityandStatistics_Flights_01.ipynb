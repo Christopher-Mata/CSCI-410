{
 "cells": [
  {
   "cell_type": "code",
   "execution_count": 1,
   "id": "89ec373a",
   "metadata": {
    "execution": {
     "iopub.execute_input": "2023-01-30T16:10:58.654848Z",
     "iopub.status.busy": "2023-01-30T16:10:58.653849Z",
     "iopub.status.idle": "2023-01-30T16:11:02.381234Z",
     "shell.execute_reply": "2023-01-30T16:11:02.379233Z"
    },
    "scrolled": true
   },
   "outputs": [
    {
     "data": {
      "text/html": [
       "<div>\n",
       "<style scoped>\n",
       "    .dataframe tbody tr th:only-of-type {\n",
       "        vertical-align: middle;\n",
       "    }\n",
       "\n",
       "    .dataframe tbody tr th {\n",
       "        vertical-align: top;\n",
       "    }\n",
       "\n",
       "    .dataframe thead th {\n",
       "        text-align: right;\n",
       "    }\n",
       "</style>\n",
       "<table border=\"1\" class=\"dataframe\">\n",
       "  <thead>\n",
       "    <tr style=\"text-align: right;\">\n",
       "      <th></th>\n",
       "      <th>year</th>\n",
       "      <th>month</th>\n",
       "      <th>day</th>\n",
       "      <th>dep_time</th>\n",
       "      <th>sched_dep_time</th>\n",
       "      <th>delay</th>\n",
       "      <th>dep_delay</th>\n",
       "      <th>arr_time</th>\n",
       "      <th>sched_arr_time</th>\n",
       "      <th>arr_delay</th>\n",
       "      <th>...</th>\n",
       "      <th>time_hour</th>\n",
       "      <th>temp</th>\n",
       "      <th>dewp</th>\n",
       "      <th>humid</th>\n",
       "      <th>wind_dir</th>\n",
       "      <th>wind_speed</th>\n",
       "      <th>wind_gust</th>\n",
       "      <th>precip</th>\n",
       "      <th>pressure</th>\n",
       "      <th>visib</th>\n",
       "    </tr>\n",
       "  </thead>\n",
       "  <tbody>\n",
       "    <tr>\n",
       "      <th>1</th>\n",
       "      <td>2013</td>\n",
       "      <td>1</td>\n",
       "      <td>1</td>\n",
       "      <td>533.0</td>\n",
       "      <td>529</td>\n",
       "      <td>1</td>\n",
       "      <td>4.0</td>\n",
       "      <td>850.0</td>\n",
       "      <td>830</td>\n",
       "      <td>20.0</td>\n",
       "      <td>...</td>\n",
       "      <td>1/1/13 5:00</td>\n",
       "      <td>39.92</td>\n",
       "      <td>24.98</td>\n",
       "      <td>54.81</td>\n",
       "      <td>250.0</td>\n",
       "      <td>14.96014</td>\n",
       "      <td>21.86482</td>\n",
       "      <td>0.0</td>\n",
       "      <td>1011.4</td>\n",
       "      <td>10.0</td>\n",
       "    </tr>\n",
       "    <tr>\n",
       "      <th>4</th>\n",
       "      <td>2013</td>\n",
       "      <td>1</td>\n",
       "      <td>1</td>\n",
       "      <td>554.0</td>\n",
       "      <td>600</td>\n",
       "      <td>0</td>\n",
       "      <td>-6.0</td>\n",
       "      <td>812.0</td>\n",
       "      <td>837</td>\n",
       "      <td>-25.0</td>\n",
       "      <td>...</td>\n",
       "      <td>1/1/13 6:00</td>\n",
       "      <td>39.92</td>\n",
       "      <td>24.98</td>\n",
       "      <td>54.81</td>\n",
       "      <td>260.0</td>\n",
       "      <td>16.11092</td>\n",
       "      <td>23.01560</td>\n",
       "      <td>0.0</td>\n",
       "      <td>1011.7</td>\n",
       "      <td>10.0</td>\n",
       "    </tr>\n",
       "    <tr>\n",
       "      <th>7</th>\n",
       "      <td>2013</td>\n",
       "      <td>1</td>\n",
       "      <td>1</td>\n",
       "      <td>557.0</td>\n",
       "      <td>600</td>\n",
       "      <td>0</td>\n",
       "      <td>-3.0</td>\n",
       "      <td>709.0</td>\n",
       "      <td>723</td>\n",
       "      <td>-14.0</td>\n",
       "      <td>...</td>\n",
       "      <td>1/1/13 6:00</td>\n",
       "      <td>39.92</td>\n",
       "      <td>24.98</td>\n",
       "      <td>54.81</td>\n",
       "      <td>260.0</td>\n",
       "      <td>16.11092</td>\n",
       "      <td>23.01560</td>\n",
       "      <td>0.0</td>\n",
       "      <td>1011.7</td>\n",
       "      <td>10.0</td>\n",
       "    </tr>\n",
       "    <tr>\n",
       "      <th>9</th>\n",
       "      <td>2013</td>\n",
       "      <td>1</td>\n",
       "      <td>1</td>\n",
       "      <td>558.0</td>\n",
       "      <td>600</td>\n",
       "      <td>0</td>\n",
       "      <td>-2.0</td>\n",
       "      <td>753.0</td>\n",
       "      <td>745</td>\n",
       "      <td>8.0</td>\n",
       "      <td>...</td>\n",
       "      <td>1/1/13 6:00</td>\n",
       "      <td>39.92</td>\n",
       "      <td>24.98</td>\n",
       "      <td>54.81</td>\n",
       "      <td>260.0</td>\n",
       "      <td>16.11092</td>\n",
       "      <td>23.01560</td>\n",
       "      <td>0.0</td>\n",
       "      <td>1011.7</td>\n",
       "      <td>10.0</td>\n",
       "    </tr>\n",
       "    <tr>\n",
       "      <th>14</th>\n",
       "      <td>2013</td>\n",
       "      <td>1</td>\n",
       "      <td>1</td>\n",
       "      <td>559.0</td>\n",
       "      <td>600</td>\n",
       "      <td>0</td>\n",
       "      <td>-1.0</td>\n",
       "      <td>941.0</td>\n",
       "      <td>910</td>\n",
       "      <td>31.0</td>\n",
       "      <td>...</td>\n",
       "      <td>1/1/13 6:00</td>\n",
       "      <td>39.92</td>\n",
       "      <td>24.98</td>\n",
       "      <td>54.81</td>\n",
       "      <td>260.0</td>\n",
       "      <td>16.11092</td>\n",
       "      <td>23.01560</td>\n",
       "      <td>0.0</td>\n",
       "      <td>1011.7</td>\n",
       "      <td>10.0</td>\n",
       "    </tr>\n",
       "    <tr>\n",
       "      <th>...</th>\n",
       "      <td>...</td>\n",
       "      <td>...</td>\n",
       "      <td>...</td>\n",
       "      <td>...</td>\n",
       "      <td>...</td>\n",
       "      <td>...</td>\n",
       "      <td>...</td>\n",
       "      <td>...</td>\n",
       "      <td>...</td>\n",
       "      <td>...</td>\n",
       "      <td>...</td>\n",
       "      <td>...</td>\n",
       "      <td>...</td>\n",
       "      <td>...</td>\n",
       "      <td>...</td>\n",
       "      <td>...</td>\n",
       "      <td>...</td>\n",
       "      <td>...</td>\n",
       "      <td>...</td>\n",
       "      <td>...</td>\n",
       "      <td>...</td>\n",
       "    </tr>\n",
       "    <tr>\n",
       "      <th>332572</th>\n",
       "      <td>2013</td>\n",
       "      <td>9</td>\n",
       "      <td>26</td>\n",
       "      <td>1141.0</td>\n",
       "      <td>1145</td>\n",
       "      <td>0</td>\n",
       "      <td>-4.0</td>\n",
       "      <td>1457.0</td>\n",
       "      <td>1456</td>\n",
       "      <td>1.0</td>\n",
       "      <td>...</td>\n",
       "      <td>9/26/13 11:00</td>\n",
       "      <td>66.02</td>\n",
       "      <td>53.96</td>\n",
       "      <td>65.07</td>\n",
       "      <td>40.0</td>\n",
       "      <td>16.11092</td>\n",
       "      <td>21.86482</td>\n",
       "      <td>0.0</td>\n",
       "      <td>1017.0</td>\n",
       "      <td>10.0</td>\n",
       "    </tr>\n",
       "    <tr>\n",
       "      <th>332575</th>\n",
       "      <td>2013</td>\n",
       "      <td>9</td>\n",
       "      <td>26</td>\n",
       "      <td>1151.0</td>\n",
       "      <td>1150</td>\n",
       "      <td>1</td>\n",
       "      <td>1.0</td>\n",
       "      <td>1429.0</td>\n",
       "      <td>1415</td>\n",
       "      <td>14.0</td>\n",
       "      <td>...</td>\n",
       "      <td>9/26/13 11:00</td>\n",
       "      <td>66.02</td>\n",
       "      <td>53.96</td>\n",
       "      <td>65.07</td>\n",
       "      <td>40.0</td>\n",
       "      <td>16.11092</td>\n",
       "      <td>21.86482</td>\n",
       "      <td>0.0</td>\n",
       "      <td>1017.0</td>\n",
       "      <td>10.0</td>\n",
       "    </tr>\n",
       "    <tr>\n",
       "      <th>332577</th>\n",
       "      <td>2013</td>\n",
       "      <td>9</td>\n",
       "      <td>26</td>\n",
       "      <td>1151.0</td>\n",
       "      <td>1159</td>\n",
       "      <td>0</td>\n",
       "      <td>-8.0</td>\n",
       "      <td>1346.0</td>\n",
       "      <td>1344</td>\n",
       "      <td>2.0</td>\n",
       "      <td>...</td>\n",
       "      <td>9/26/13 11:00</td>\n",
       "      <td>66.02</td>\n",
       "      <td>53.96</td>\n",
       "      <td>65.07</td>\n",
       "      <td>40.0</td>\n",
       "      <td>16.11092</td>\n",
       "      <td>21.86482</td>\n",
       "      <td>0.0</td>\n",
       "      <td>1017.0</td>\n",
       "      <td>10.0</td>\n",
       "    </tr>\n",
       "    <tr>\n",
       "      <th>332586</th>\n",
       "      <td>2013</td>\n",
       "      <td>9</td>\n",
       "      <td>26</td>\n",
       "      <td>1158.0</td>\n",
       "      <td>1125</td>\n",
       "      <td>1</td>\n",
       "      <td>33.0</td>\n",
       "      <td>1339.0</td>\n",
       "      <td>1310</td>\n",
       "      <td>29.0</td>\n",
       "      <td>...</td>\n",
       "      <td>9/26/13 11:00</td>\n",
       "      <td>66.02</td>\n",
       "      <td>53.96</td>\n",
       "      <td>65.07</td>\n",
       "      <td>40.0</td>\n",
       "      <td>16.11092</td>\n",
       "      <td>21.86482</td>\n",
       "      <td>0.0</td>\n",
       "      <td>1017.0</td>\n",
       "      <td>10.0</td>\n",
       "    </tr>\n",
       "    <tr>\n",
       "      <th>332601</th>\n",
       "      <td>2013</td>\n",
       "      <td>9</td>\n",
       "      <td>26</td>\n",
       "      <td>1219.0</td>\n",
       "      <td>1159</td>\n",
       "      <td>1</td>\n",
       "      <td>20.0</td>\n",
       "      <td>1543.0</td>\n",
       "      <td>1514</td>\n",
       "      <td>29.0</td>\n",
       "      <td>...</td>\n",
       "      <td>9/26/13 11:00</td>\n",
       "      <td>66.02</td>\n",
       "      <td>53.96</td>\n",
       "      <td>65.07</td>\n",
       "      <td>40.0</td>\n",
       "      <td>16.11092</td>\n",
       "      <td>21.86482</td>\n",
       "      <td>0.0</td>\n",
       "      <td>1017.0</td>\n",
       "      <td>10.0</td>\n",
       "    </tr>\n",
       "  </tbody>\n",
       "</table>\n",
       "<p>72734 rows × 29 columns</p>\n",
       "</div>"
      ],
      "text/plain": [
       "        year  month  day  dep_time  sched_dep_time  delay  dep_delay  \\\n",
       "1       2013      1    1     533.0             529      1        4.0   \n",
       "4       2013      1    1     554.0             600      0       -6.0   \n",
       "7       2013      1    1     557.0             600      0       -3.0   \n",
       "9       2013      1    1     558.0             600      0       -2.0   \n",
       "14      2013      1    1     559.0             600      0       -1.0   \n",
       "...      ...    ...  ...       ...             ...    ...        ...   \n",
       "332572  2013      9   26    1141.0            1145      0       -4.0   \n",
       "332575  2013      9   26    1151.0            1150      1        1.0   \n",
       "332577  2013      9   26    1151.0            1159      0       -8.0   \n",
       "332586  2013      9   26    1158.0            1125      1       33.0   \n",
       "332601  2013      9   26    1219.0            1159      1       20.0   \n",
       "\n",
       "        arr_time  sched_arr_time  arr_delay  ...      time_hour   temp   dewp  \\\n",
       "1          850.0             830       20.0  ...    1/1/13 5:00  39.92  24.98   \n",
       "4          812.0             837      -25.0  ...    1/1/13 6:00  39.92  24.98   \n",
       "7          709.0             723      -14.0  ...    1/1/13 6:00  39.92  24.98   \n",
       "9          753.0             745        8.0  ...    1/1/13 6:00  39.92  24.98   \n",
       "14         941.0             910       31.0  ...    1/1/13 6:00  39.92  24.98   \n",
       "...          ...             ...        ...  ...            ...    ...    ...   \n",
       "332572    1457.0            1456        1.0  ...  9/26/13 11:00  66.02  53.96   \n",
       "332575    1429.0            1415       14.0  ...  9/26/13 11:00  66.02  53.96   \n",
       "332577    1346.0            1344        2.0  ...  9/26/13 11:00  66.02  53.96   \n",
       "332586    1339.0            1310       29.0  ...  9/26/13 11:00  66.02  53.96   \n",
       "332601    1543.0            1514       29.0  ...  9/26/13 11:00  66.02  53.96   \n",
       "\n",
       "        humid wind_dir  wind_speed  wind_gust  precip  pressure visib  \n",
       "1       54.81    250.0    14.96014   21.86482     0.0    1011.4  10.0  \n",
       "4       54.81    260.0    16.11092   23.01560     0.0    1011.7  10.0  \n",
       "7       54.81    260.0    16.11092   23.01560     0.0    1011.7  10.0  \n",
       "9       54.81    260.0    16.11092   23.01560     0.0    1011.7  10.0  \n",
       "14      54.81    260.0    16.11092   23.01560     0.0    1011.7  10.0  \n",
       "...       ...      ...         ...        ...     ...       ...   ...  \n",
       "332572  65.07     40.0    16.11092   21.86482     0.0    1017.0  10.0  \n",
       "332575  65.07     40.0    16.11092   21.86482     0.0    1017.0  10.0  \n",
       "332577  65.07     40.0    16.11092   21.86482     0.0    1017.0  10.0  \n",
       "332586  65.07     40.0    16.11092   21.86482     0.0    1017.0  10.0  \n",
       "332601  65.07     40.0    16.11092   21.86482     0.0    1017.0  10.0  \n",
       "\n",
       "[72734 rows x 29 columns]"
      ]
     },
     "execution_count": 1,
     "metadata": {},
     "output_type": "execute_result"
    }
   ],
   "source": [
    "# Import packages\n",
    "import numpy as np\n",
    "import pandas as pd\n",
    "import matplotlib.pyplot as plt\n",
    "from statsmodels.stats.proportion import proportions_ztest\n",
    "from scipy.stats import ttest_ind\n",
    "\n",
    "# Load the flights dataset\n",
    "flights = pd.read_csv('flights.csv').dropna()\n",
    "flights"
   ]
  },
  {
   "cell_type": "code",
   "execution_count": 2,
   "id": "865b5d53",
   "metadata": {
    "execution": {
     "iopub.execute_input": "2023-01-30T16:11:02.391455Z",
     "iopub.status.busy": "2023-01-30T16:11:02.391455Z",
     "iopub.status.idle": "2023-01-30T16:11:02.458323Z",
     "shell.execute_reply": "2023-01-30T16:11:02.456484Z"
    }
   },
   "outputs": [],
   "source": [
    "# Define dataframes for each origin airport\n",
    "EWR = flights[flights['origin'] == 'EWR']\n",
    "JFK = flights[flights['origin'] == 'JFK']\n",
    "LGA = flights[flights['origin'] == 'LGA']"
   ]
  },
  {
   "cell_type": "code",
   "execution_count": 3,
   "id": "727ff115",
   "metadata": {
    "execution": {
     "iopub.execute_input": "2023-01-30T16:11:02.467879Z",
     "iopub.status.busy": "2023-01-30T16:11:02.466584Z",
     "iopub.status.idle": "2023-01-30T16:11:02.503794Z",
     "shell.execute_reply": "2023-01-30T16:11:02.502801Z"
    }
   },
   "outputs": [
    {
     "data": {
      "text/plain": [
       "0    39564\n",
       "1    33170\n",
       "Name: delay, dtype: int64"
      ]
     },
     "execution_count": 3,
     "metadata": {},
     "output_type": "execute_result"
    }
   ],
   "source": [
    "all_counts = flights['delay'].value_counts()\n",
    "all_counts"
   ]
  },
  {
   "cell_type": "code",
   "execution_count": 4,
   "id": "7f53bff5",
   "metadata": {
    "execution": {
     "iopub.execute_input": "2023-01-30T16:11:02.512458Z",
     "iopub.status.busy": "2023-01-30T16:11:02.512458Z",
     "iopub.status.idle": "2023-01-30T16:11:02.842441Z",
     "shell.execute_reply": "2023-01-30T16:11:02.841546Z"
    }
   },
   "outputs": [
    {
     "data": {
      "text/plain": [
       "Text(0, 0.5, 'Count')"
      ]
     },
     "execution_count": 4,
     "metadata": {},
     "output_type": "execute_result"
    },
    {
     "data": {
      "image/png": "[encoded data removed]",
      "text/plain": [
       "<Figure size 640x480 with 1 Axes>"
      ]
     },
     "metadata": {},
     "output_type": "display_data"
    }
   ],
   "source": [
    "# Plot whether flights from all NY airports were delayed or not\n",
    "plt.bar(x=['No delay', 'Delay'], height=all_counts)\n",
    "plt.title('All New York City flights', fontsize=16)\n",
    "plt.xlabel('Flight status', fontsize=14)\n",
    "plt.ylabel('Count', fontsize=14)"
   ]
  },
  {
   "cell_type": "code",
   "execution_count": 5,
   "id": "5cd6dbc8",
   "metadata": {
    "execution": {
     "iopub.execute_input": "2023-01-30T16:11:02.849919Z",
     "iopub.status.busy": "2023-01-30T16:11:02.848928Z",
     "iopub.status.idle": "2023-01-30T16:11:02.858945Z",
     "shell.execute_reply": "2023-01-30T16:11:02.857405Z"
    }
   },
   "outputs": [
    {
     "data": {
      "text/plain": [
       "0    10756\n",
       "1     8456\n",
       "Name: delay, dtype: int64"
      ]
     },
     "execution_count": 5,
     "metadata": {},
     "output_type": "execute_result"
    }
   ],
   "source": [
    "JFK_counts = JFK['delay'].value_counts()\n",
    "JFK_counts"
   ]
  },
  {
   "cell_type": "code",
   "execution_count": 6,
   "id": "ae64ca4f",
   "metadata": {
    "execution": {
     "iopub.execute_input": "2023-01-30T16:11:02.864590Z",
     "iopub.status.busy": "2023-01-30T16:11:02.864590Z",
     "iopub.status.idle": "2023-01-30T16:11:03.090564Z",
     "shell.execute_reply": "2023-01-30T16:11:03.089056Z"
    }
   },
   "outputs": [
    {
     "data": {
      "text/plain": [
       "Text(0, 0.5, 'Count')"
      ]
     },
     "execution_count": 6,
     "metadata": {},
     "output_type": "execute_result"
    },
    {
     "data": {
      "image/png": "[encoded data removed]",
      "text/plain": [
       "<Figure size 640x480 with 1 Axes>"
      ]
     },
     "metadata": {},
     "output_type": "display_data"
    }
   ],
   "source": [
    "# Plot whether flights from JFK were delayed or not\n",
    "plt.bar(x=['No delay', 'Delay'], height=JFK_counts)\n",
    "plt.title('Flights from JFK', fontsize=16)\n",
    "plt.xlabel('Flight status', fontsize=14)\n",
    "plt.ylabel('Count', fontsize=14)"
   ]
  },
  {
   "cell_type": "code",
   "execution_count": 7,
   "id": "7e5d93b6",
   "metadata": {
    "execution": {
     "iopub.execute_input": "2023-01-30T16:11:03.100359Z",
     "iopub.status.busy": "2023-01-30T16:11:03.099279Z",
     "iopub.status.idle": "2023-01-30T16:11:03.121464Z",
     "shell.execute_reply": "2023-01-30T16:11:03.120462Z"
    }
   },
   "outputs": [
    {
     "data": {
      "text/plain": [
       "0    15385\n",
       "1     9793\n",
       "Name: delay, dtype: int64"
      ]
     },
     "execution_count": 7,
     "metadata": {},
     "output_type": "execute_result"
    }
   ],
   "source": [
    "LGA_counts = LGA['delay'].value_counts()\n",
    "LGA_counts"
   ]
  },
  {
   "cell_type": "code",
   "execution_count": 8,
   "id": "d6cc9092",
   "metadata": {
    "execution": {
     "iopub.execute_input": "2023-01-30T16:11:03.132714Z",
     "iopub.status.busy": "2023-01-30T16:11:03.131716Z",
     "iopub.status.idle": "2023-01-30T16:11:03.370685Z",
     "shell.execute_reply": "2023-01-30T16:11:03.369684Z"
    }
   },
   "outputs": [
    {
     "data": {
      "text/plain": [
       "Text(0, 0.5, 'Count')"
      ]
     },
     "execution_count": 8,
     "metadata": {},
     "output_type": "execute_result"
    },
    {
     "data": {
      "image/png": "[encoded data removed]",
      "text/plain": [
       "<Figure size 640x480 with 1 Axes>"
      ]
     },
     "metadata": {},
     "output_type": "display_data"
    }
   ],
   "source": [
    "# Plot whether flights from LGA were delayed or not\n",
    "plt.bar(x=['No delay', 'Delay'], height=LGA_counts)\n",
    "plt.title('Flights from LGA', fontsize=16)\n",
    "plt.xlabel('Flight status', fontsize=14)\n",
    "plt.ylabel('Count', fontsize=14)"
   ]
  },
  {
   "cell_type": "markdown",
   "id": "f43c521a",
   "metadata": {},
   "source": [
    "Suppose the two closest airports are JFK and LGA. Which airport is best for avoiding delays?"
   ]
  },
  {
   "cell_type": "code",
   "execution_count": 9,
   "id": "d301757f",
   "metadata": {
    "execution": {
     "iopub.execute_input": "2023-01-30T16:11:03.379541Z",
     "iopub.status.busy": "2023-01-30T16:11:03.377838Z",
     "iopub.status.idle": "2023-01-30T16:11:03.402152Z",
     "shell.execute_reply": "2023-01-30T16:11:03.400709Z"
    }
   },
   "outputs": [
    {
     "data": {
      "text/plain": [
       "0.4111061049785988"
      ]
     },
     "execution_count": 9,
     "metadata": {},
     "output_type": "execute_result"
    }
   ],
   "source": [
    "sample_prop = (JFK_counts[1] + LGA_counts[1]) / (len(JFK) + len(LGA))\n",
    "sample_prop"
   ]
  },
  {
   "cell_type": "code",
   "execution_count": 10,
   "id": "9931678b",
   "metadata": {
    "execution": {
     "iopub.execute_input": "2023-01-30T16:11:03.408766Z",
     "iopub.status.busy": "2023-01-30T16:11:03.407767Z",
     "iopub.status.idle": "2023-01-30T16:11:03.432900Z",
     "shell.execute_reply": "2023-01-30T16:11:03.431147Z"
    }
   },
   "outputs": [
    {
     "data": {
      "text/plain": [
       "(10.8605461665445, 1.7768330129745866e-27)"
      ]
     },
     "execution_count": 10,
     "metadata": {},
     "output_type": "execute_result"
    }
   ],
   "source": [
    "proportions_ztest(\n",
    "    count=[JFK_counts[1], LGA_counts[1]],\n",
    "    nobs=[len(JFK), len(LGA)],\n",
    "    value=0,\n",
    "    alternative='two-sided',\n",
    "    prop_var=sample_prop,\n",
    ")"
   ]
  }
 ],
 "metadata": {
  "kernelspec": {
   "display_name": "Python 3 (ipykernel)",
   "language": "python",
   "name": "python3"
  },
  "language_info": {
   "codemirror_mode": {
    "name": "ipython",
    "version": 3
   },
   "file_extension": ".py",
   "mimetype": "text/x-python",
   "name": "python",
   "nbconvert_exporter": "python",
   "pygments_lexer": "ipython3",
   "version": "3.9.15"
  },
  "widgets": {
   "application/vnd.jupyter.widget-state+json": {
    "state": {},
    "version_major": 2,
    "version_minor": 0
   }
  }
 },
 "nbformat": 4,
 "nbformat_minor": 5
}
